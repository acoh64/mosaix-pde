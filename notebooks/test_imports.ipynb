{
 "cells": [
  {
   "cell_type": "code",
   "execution_count": 1,
   "id": "51d435cd",
   "metadata": {},
   "outputs": [],
   "source": [
    "from pde_opt import PDEModel\n",
    "from pde_opt import CahnHilliard2DPeriodic\n",
    "from pde_opt import SemiImplicitFourierSpectral\n",
    "from pde_opt import Domain\n",
    "from pde_opt import PeriodicCNN"
   ]
  },
  {
   "cell_type": "code",
   "execution_count": null,
   "id": "4513f113",
   "metadata": {},
   "outputs": [],
   "source": []
  }
 ],
 "metadata": {
  "kernelspec": {
   "display_name": "Python 3",
   "language": "python",
   "name": "python3"
  },
  "language_info": {
   "codemirror_mode": {
    "name": "ipython",
    "version": 3
   },
   "file_extension": ".py",
   "mimetype": "text/x-python",
   "name": "python",
   "nbconvert_exporter": "python",
   "pygments_lexer": "ipython3",
   "version": "3.10.18"
  }
 },
 "nbformat": 4,
 "nbformat_minor": 5
}
