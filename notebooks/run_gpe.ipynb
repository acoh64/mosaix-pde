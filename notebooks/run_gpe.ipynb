{
 "cells": [
  {
   "cell_type": "code",
   "execution_count": null,
   "metadata": {},
   "outputs": [],
   "source": [
    "import diffrax\n",
    "import jax\n",
    "import jax.numpy as jnp\n",
    "import numpy as np\n",
    "from jax import random\n",
    "\n",
    "from pde_opt.numerics.domains import Domain\n",
    "from pde_opt.numerics.equations import GPE2DTSControl\n",
    "from pde_opt.numerics.solvers import StrangSplitting\n",
    "from pde_opt.numerics.utils.initialization_utils import initialize_Psi, add_vortex_to_wavefunction"
   ]
  },
  {
   "cell_type": "code",
   "execution_count": 2,
   "metadata": {},
   "outputs": [],
   "source": [
    "def density(psi):\n",
    "    return jnp.abs(psi)**2"
   ]
  },
  {
   "cell_type": "code",
   "execution_count": 3,
   "metadata": {},
   "outputs": [],
   "source": [
    "# Get variables with dimensions\n",
    "atoms = 5e5\n",
    "hbar = 1.05e-34 #J*s\n",
    "omega = 2*jnp.pi*10 #1/s\n",
    "omega_z = jnp.sqrt(8)*omega\n",
    "epsilon = 0.0\n",
    "mass = 3.8175406e-26 #kg (atomic mass of sodium-23)\n",
    "a0 = 5.29177210903e-11\n",
    "a_s = 100*a0\n",
    "N = 256\n",
    "\n",
    "x_s = jnp.sqrt(hbar/(mass*omega))\n",
    "t_s = 1/omega\n",
    "\n",
    "# Length of the x and y axes in meters\n",
    "Lx = 150e-6 #meters\n",
    "Ly = 150e-6 #meters\n",
    "\n",
    "# Get dimensionless variables\n",
    "Lx_ = Lx/x_s\n",
    "Ly_ = Ly/x_s\n",
    "\n",
    "# Get k\n",
    "k = 4*jnp.pi*a_s*atoms*jnp.sqrt((mass*omega_z)/(2*jnp.pi*hbar))\n",
    "\n",
    "epsilon = 0.0\n",
    "\n",
    "t_start = 0.0\n",
    "t_final = 0.1\n",
    "dt = 1e-5\n",
    "\n",
    "t_start_ = t_start/t_s\n",
    "t_final_ = t_final/t_s\n",
    "dt_ = dt/t_s\n",
    "\n",
    "domain_ = Domain((N,N,), ((-Lx_/2, Lx_/2), (-Ly_/2, Ly_/2),), \"dimensionless\")\n"
   ]
  },
  {
   "cell_type": "code",
   "execution_count": 4,
   "metadata": {},
   "outputs": [],
   "source": [
    "Psi0 = initialize_Psi(N, width=100, vortexnumber=0)\n",
    "Psi0_ = Psi0*x_s\n",
    "Psi0_ /= jnp.sqrt(jnp.sum(density(Psi0_))*domain_.dx[0]**2)"
   ]
  },
  {
   "cell_type": "code",
   "execution_count": 41,
   "metadata": {},
   "outputs": [],
   "source": [
    "\n",
    "eq = GPE2DTSControl(domain_, k, epsilon, lambda a,b,c: 0.0, trap_factor=1.0)\n",
    "\n",
    "solver = StrangSplitting(eq.A_term, eq.domain.dx[0], eq.fft, eq.ifft, -1j)\n",
    "\n"
   ]
  },
  {
   "cell_type": "code",
   "execution_count": null,
   "metadata": {},
   "outputs": [],
   "source": [
    "solution = diffrax.diffeqsolve(\n",
    "    diffrax.ODETerm(jax.jit(lambda t, y, args: eq.B_terms(y, t))),\n",
    "    solver,\n",
    "    t0=t_start_,\n",
    "    t1=t_final_,\n",
    "    dt0=dt_,\n",
    "    y0=jnp.stack([Psi0_.real, Psi0_.imag], axis=-1),\n",
    "    # stepsize_controller=diffrax.PIDController(rtol=1e-4, atol=1e-6),\n",
    "    saveat=diffrax.SaveAt(ts=jnp.linspace(t_start_, t_final_, 100)),\n",
    "    max_steps=1000000,\n",
    ")\n",
    "\n",
    "print(solution.stats)\n",
    "\n",
    "print(jnp.sum(density(solution.ys[0,...,0] + 1j*solution.ys[0,...,1]))*domain_.dx[0]**2)\n",
    "print(jnp.sum(density(solution.ys[-1,...,0] + 1j*solution.ys[-1,...,1]))*domain_.dx[0]**2)"
   ]
  },
  {
   "cell_type": "code",
   "execution_count": null,
   "metadata": {},
   "outputs": [],
   "source": [
    "import matplotlib.pyplot as plt\n",
    "from IPython.display import HTML\n",
    "import matplotlib.animation as animation\n",
    "\n",
    "fig, ax = plt.subplots(figsize=(4,4))\n",
    "\n",
    "ims = []\n",
    "for i in range(0, len(solution.ys), 2):\n",
    "    im = ax.imshow(atoms * density(solution.ys[i][...,0] + 1j*solution.ys[i][...,1]) / x_s, animated=True, \n",
    "                   extent=[domain_.box[0][0], domain_.box[0][1], \n",
    "                          domain_.box[1][0], domain_.box[1][1]])\n",
    "    ims.append([im])\n",
    "\n",
    "ani = animation.ArtistAnimation(fig, ims, interval=50, blit=True)\n",
    "\n",
    "plt.title('GPE Evolution')\n",
    "plt.xlabel('x')\n",
    "plt.ylabel('y')\n",
    "\n",
    "plt.close()\n",
    "\n",
    "HTML(ani.to_jshtml())\n"
   ]
  },
  {
   "cell_type": "code",
   "execution_count": 44,
   "metadata": {},
   "outputs": [],
   "source": [
    "path_fn_ = lambda t: (2.5*jnp.cos(16*jnp.pi*t*t_s), 2.5*jnp.sin(16*jnp.pi*t*t_s))\n",
    "# path_fn_ = lambda t: (0.0, 0.0)\n",
    "\n",
    "\n",
    "def light(t, p, xs, ys):\n",
    "    xi, yi = path_fn_(t)\n",
    "    # Create pulsing by multiplying by a sine wave that oscillates between 0 and 1\n",
    "    pulse = (jnp.sin(2*jnp.pi*10*t*t_s) + 1)/2  # 10 Hz pulsing\n",
    "    return pulse * p[0]*jnp.exp(-((xs-xi)**2 + (ys-yi)**2)/(2.0*p[1]))\n",
    "\n",
    "# size of light\n",
    "sigma = 2e-6 #meters\n",
    "# strength of light\n",
    "A = 0.0 #need to do energy nondim\n",
    "\n",
    "# nondimensionalize the light\n",
    "sigma_ = sigma/x_s\n",
    "A_ = A #need to do energy nondim\n",
    "\n",
    "params = jnp.array([A_, sigma_**2])\n",
    "\n",
    "light_ = lambda t, xmesh, ymesh: light(t, params, xmesh, ymesh)"
   ]
  },
  {
   "cell_type": "code",
   "execution_count": 56,
   "metadata": {},
   "outputs": [],
   "source": [
    "t_start = 0.0\n",
    "t_final = 2.0\n",
    "dt = 1e-5\n",
    "save_at = 0.01\n",
    "\n",
    "cooling = 0.01\n",
    "\n",
    "t_start_ = t_start/t_s\n",
    "t_final_ = t_final/t_s\n",
    "dt_ = dt/t_s"
   ]
  },
  {
   "cell_type": "code",
   "execution_count": 57,
   "metadata": {},
   "outputs": [],
   "source": [
    "eq = GPE2DTSControl(domain_, k, epsilon, light_, trap_factor=1.0)\n",
    "solver = StrangSplitting(eq.A_term, eq.domain.dx[0], eq.fft, eq.ifft, (1.0 - 1j*cooling))"
   ]
  },
  {
   "cell_type": "code",
   "execution_count": 58,
   "metadata": {},
   "outputs": [],
   "source": [
    "init = add_vortex_to_wavefunction(solution.ys[-1,...,0] + 1j*solution.ys[-1,...,1], (120,120), vortex_strength=1, vortex_width=1)\n",
    "# init = add_vortex_to_wavefunction(init, (200,200), vortex_strength=1, vortex_width=1)\n",
    "init /= jnp.sqrt(jnp.sum(density(init))*domain_.dx[0]**2)\n",
    "init = jnp.stack([init.real, init.imag], axis=-1)\n"
   ]
  },
  {
   "cell_type": "code",
   "execution_count": null,
   "metadata": {},
   "outputs": [],
   "source": [
    "solution2 = diffrax.diffeqsolve(\n",
    "    diffrax.ODETerm(jax.jit(lambda t, y, args: eq.B_terms(y, t))),\n",
    "    solver,\n",
    "    t0=t_start_,\n",
    "    t1=t_final_,\n",
    "    dt0=dt_,\n",
    "    y0=init,\n",
    "    saveat=diffrax.SaveAt(ts=jnp.linspace(t_start_, t_final_, 100)),\n",
    "    max_steps=1000000,\n",
    ")\n",
    "\n",
    "print(solution2.stats)\n",
    "\n",
    "print(jnp.sum(density(solution2.ys[0,...,0] + 1j*solution2.ys[0,...,1]))*domain_.dx[0]**2)\n",
    "print(jnp.sum(density(solution2.ys[-1,...,0] + 1j*solution2.ys[-1,...,1]))*domain_.dx[0]**2)"
   ]
  },
  {
   "cell_type": "code",
   "execution_count": null,
   "metadata": {},
   "outputs": [],
   "source": [
    "fig, ax = plt.subplots(figsize=(4,4))\n",
    "\n",
    "ims = []\n",
    "for i in range(0, len(solution2.ys), 1):\n",
    "    im = ax.imshow(atoms * density(solution2.ys[i][...,0] + 1j*solution2.ys[i][...,1]) / x_s, animated=True, \n",
    "                   extent=[domain_.box[0][0], domain_.box[0][1], \n",
    "                          domain_.box[1][0], domain_.box[1][1]])\n",
    "    ims.append([im])\n",
    "\n",
    "ani = animation.ArtistAnimation(fig, ims, interval=50, blit=True)\n",
    "\n",
    "plt.title('GPE Evolution')\n",
    "plt.xlabel('x')\n",
    "plt.ylabel('y')\n",
    "\n",
    "plt.close()\n",
    "\n",
    "HTML(ani.to_jshtml())"
   ]
  },
  {
   "cell_type": "code",
   "execution_count": null,
   "metadata": {},
   "outputs": [],
   "source": []
  },
  {
   "cell_type": "code",
   "execution_count": null,
   "metadata": {},
   "outputs": [],
   "source": []
  }
 ],
 "metadata": {
  "kernelspec": {
   "display_name": "Python 3",
   "language": "python",
   "name": "python3"
  },
  "language_info": {
   "codemirror_mode": {
    "name": "ipython",
    "version": 3
   },
   "file_extension": ".py",
   "mimetype": "text/x-python",
   "name": "python",
   "nbconvert_exporter": "python",
   "pygments_lexer": "ipython3",
   "version": "3.10.18"
  }
 },
 "nbformat": 4,
 "nbformat_minor": 2
}
