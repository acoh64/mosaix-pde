{
 "cells": [
  {
   "cell_type": "code",
   "execution_count": 1,
   "id": "dc9fcdc7",
   "metadata": {},
   "outputs": [
    {
     "name": "stdout",
     "output_type": "stream",
     "text": [
      "=== JAXPR with kappa as PY float (static) ===\n",
      "{ \u001b[34;1mlambda \u001b[39;22m; a\u001b[35m:f32[4]\u001b[39m. \u001b[34;1mlet\n",
      "    \u001b[39;22m_\u001b[35m:i32[]\u001b[39m b\u001b[35m:f32[]\u001b[39m = pjit[\n",
      "      name=f_py\n",
      "      jaxpr={ \u001b[34;1mlambda \u001b[39;22m; a\u001b[35m:f32[4]\u001b[39m. \u001b[34;1mlet\n",
      "          \u001b[39;22mc\u001b[35m:f32[4]\u001b[39m = integer_pow[y=2] a\n",
      "          d\u001b[35m:f32[]\u001b[39m = reduce_sum[axes=(0,)] c\n",
      "          b\u001b[35m:f32[]\u001b[39m = mul 2.0:f32[] d\n",
      "        \u001b[34;1min \u001b[39;22m(0:i32[], b) }\n",
      "    ] a\n",
      "  \u001b[34;1min \u001b[39;22m(b,) }\n",
      "\n",
      "=== JAXPR with kappa as 0-D ARRAY (dynamic) ===\n",
      "{ \u001b[34;1mlambda \u001b[39;22m; a\u001b[35m:f32[4]\u001b[39m. \u001b[34;1mlet\n",
      "    \u001b[39;22m_\u001b[35m:i32[]\u001b[39m b\u001b[35m:f32[]\u001b[39m = pjit[\n",
      "      name=f_arr\n",
      "      jaxpr={ \u001b[34;1mlambda \u001b[39;22mc\u001b[35m:f32[]\u001b[39m; a\u001b[35m:f32[4]\u001b[39m. \u001b[34;1mlet\n",
      "          \u001b[39;22md\u001b[35m:f32[4]\u001b[39m = integer_pow[y=2] a\n",
      "          e\u001b[35m:f32[]\u001b[39m = reduce_sum[axes=(0,)] d\n",
      "          b\u001b[35m:f32[]\u001b[39m = mul c e\n",
      "        \u001b[34;1min \u001b[39;22m(0:i32[], b) }\n",
      "    ] a\n",
      "  \u001b[34;1min \u001b[39;22m(b,) }\n"
     ]
    }
   ],
   "source": [
    "import jax\n",
    "import jax.numpy as jnp\n",
    "import equinox as eqx\n",
    "from jax import make_jaxpr\n",
    "\n",
    "# --- Case A: kappa as a Python float (STATIC) ---\n",
    "kappa_py = 2.0\n",
    "\n",
    "@eqx.filter_jit\n",
    "def f_py(x):\n",
    "    # kappa_py is captured from the closure.\n",
    "    return kappa_py * jnp.sum(x**2)\n",
    "\n",
    "x = jnp.arange(4., dtype=jnp.float32)\n",
    "print(\"=== JAXPR with kappa as PY float (static) ===\")\n",
    "print(make_jaxpr(f_py)(x))   # look at invars vs consts\n",
    "\n",
    "\n",
    "# --- Case B: kappa as a 0-D array (DYNAMIC) ---\n",
    "kappa_arr = jnp.array(2.0, dtype=jnp.float32)\n",
    "\n",
    "@eqx.filter_jit\n",
    "def f_arr(x):\n",
    "    # kappa_arr is captured but it's an ARRAY leaf → dynamic.\n",
    "    return kappa_arr * jnp.sum(x**2)\n",
    "\n",
    "print(\"\\n=== JAXPR with kappa as 0-D ARRAY (dynamic) ===\")\n",
    "print(make_jaxpr(f_arr)(x))\n"
   ]
  },
  {
   "cell_type": "code",
   "execution_count": 7,
   "id": "298054b8",
   "metadata": {},
   "outputs": [],
   "source": [
    "import jax\n",
    "from jax import make_jaxpr\n",
    "import jax.numpy as jnp\n",
    "import equinox as eqx\n",
    "from equinox import filter_make_jaxpr"
   ]
  },
  {
   "cell_type": "code",
   "execution_count": 9,
   "id": "9ee72350",
   "metadata": {},
   "outputs": [
    {
     "name": "stdout",
     "output_type": "stream",
     "text": [
      "\n",
      "=== JAXPR for mixed PyTree argument (arrays dynamic; others static) ===\n",
      "({ \u001b[34;1mlambda \u001b[39;22m; a\u001b[35m:f32[2,2]\u001b[39m b\u001b[35m:f32[2]\u001b[39m. \u001b[34;1mlet\n",
      "    \u001b[39;22m_\u001b[35m:i32[]\u001b[39m c\u001b[35m:f32[2]\u001b[39m = pjit[\n",
      "      name=forward\n",
      "      jaxpr={ \u001b[34;1mlambda \u001b[39;22m; a\u001b[35m:f32[2,2]\u001b[39m b\u001b[35m:f32[2]\u001b[39m. \u001b[34;1mlet\n",
      "          \u001b[39;22mc\u001b[35m:f32[2]\u001b[39m = dot_general[\n",
      "            dimension_numbers=(([1], [0]), ([], []))\n",
      "            preferred_element_type=float32\n",
      "          ] a b\n",
      "        \u001b[34;1min \u001b[39;22m(0:i32[], c) }\n",
      "    ] a b\n",
      "  \u001b[34;1min \u001b[39;22m(c,) }, ShapeDtypeStruct(shape=(2,), dtype=float32), None)\n"
     ]
    }
   ],
   "source": [
    "# A PyTree argument with mixed leaves\n",
    "arg = {\n",
    "    \"W\": jnp.ones((2,2), dtype=jnp.float32),  # array → dynamic\n",
    "    \"name\": \"layer\",                           # str   → static\n",
    "    \"use_bias\": False,                          # bool  → static\n",
    "}\n",
    "\n",
    "@eqx.filter_jit\n",
    "def forward(mod, x):\n",
    "    y = mod[\"W\"] @ x\n",
    "    return y + 1 if mod[\"use_bias\"] else y\n",
    "\n",
    "x = jnp.ones((2,), dtype=jnp.float32)\n",
    "print(\"\\n=== JAXPR for mixed PyTree argument (arrays dynamic; others static) ===\")\n",
    "print(filter_make_jaxpr(forward)(arg, x))\n"
   ]
  },
  {
   "cell_type": "code",
   "execution_count": 14,
   "id": "104f4399",
   "metadata": {},
   "outputs": [],
   "source": [
    "from typing import Union"
   ]
  },
  {
   "cell_type": "code",
   "execution_count": 16,
   "id": "52800ebf",
   "metadata": {},
   "outputs": [
    {
     "name": "stdout",
     "output_type": "stream",
     "text": [
      "\n",
      "=== JAXPR class capture: array field dynamic; python field static ===\n",
      "{ \u001b[34;1mlambda \u001b[39;22m; a\u001b[35m:f32[3]\u001b[39m b\u001b[35m:f32[]\u001b[39m. \u001b[34;1mlet\n",
      "    \u001b[39;22m_\u001b[35m:i32[]\u001b[39m c\u001b[35m:f32[3]\u001b[39m = pjit[\n",
      "      name=rhs_wrapped\n",
      "      jaxpr={ \u001b[34;1mlambda \u001b[39;22m; a\u001b[35m:f32[3]\u001b[39m b\u001b[35m:f32[]\u001b[39m. \u001b[34;1mlet\n",
      "          \u001b[39;22md\u001b[35m:f32[3]\u001b[39m = add a b\n",
      "          c\u001b[35m:f32[3]\u001b[39m = mul 1.5:f32[] d\n",
      "        \u001b[34;1min \u001b[39;22m(0:i32[], c) }\n",
      "    ] a b\n",
      "  \u001b[34;1min \u001b[39;22m(c,) }\n"
     ]
    }
   ],
   "source": [
    "class Tiny(eqx.Module):\n",
    "    kappa: Union[float, jax.Array]        # dynamic (array leaf)\n",
    "    scheme: str             # static (python)\n",
    "    def __init__(self):\n",
    "        self.kappa = 1.5 #jnp.array(1.5, dtype=jnp.float32)\n",
    "        self.scheme = \"fourier\"\n",
    "\n",
    "    def rhs(self, u, t):\n",
    "        # both captured through 'self'\n",
    "        return self.kappa * (u + t)\n",
    "\n",
    "model = Tiny()\n",
    "\n",
    "@eqx.filter_jit\n",
    "def rhs_wrapped(u, t):\n",
    "    return model.rhs(u, t)\n",
    "\n",
    "u = jnp.ones((3,), dtype=jnp.float32)\n",
    "t = jnp.array(0.1, dtype=jnp.float32)\n",
    "\n",
    "print(\"\\n=== JAXPR class capture: array field dynamic; python field static ===\")\n",
    "print(make_jaxpr(rhs_wrapped)(u, t))\n"
   ]
  },
  {
   "cell_type": "code",
   "execution_count": null,
   "id": "d5c804c1",
   "metadata": {},
   "outputs": [],
   "source": []
  }
 ],
 "metadata": {
  "kernelspec": {
   "display_name": "Python 3",
   "language": "python",
   "name": "python3"
  },
  "language_info": {
   "codemirror_mode": {
    "name": "ipython",
    "version": 3
   },
   "file_extension": ".py",
   "mimetype": "text/x-python",
   "name": "python",
   "nbconvert_exporter": "python",
   "pygments_lexer": "ipython3",
   "version": "3.10.18"
  }
 },
 "nbformat": 4,
 "nbformat_minor": 5
}
