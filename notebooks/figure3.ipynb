{
 "cells": [
  {
   "cell_type": "code",
   "execution_count": 1,
   "metadata": {},
   "outputs": [],
   "source": [
    "import gymnasium as gym\n",
    "import numpy as np\n",
    "import jax\n",
    "import jax.numpy as jnp\n",
    "import matplotlib.pyplot as plt\n",
    "from IPython.display import HTML\n",
    "import matplotlib.animation as animation\n",
    "import diffrax\n",
    "from scipy.ndimage import zoom\n",
    "\n",
    "\n",
    "from pde_opt.numerics.domains import Domain\n",
    "from pde_opt.rl_utils import detect_vortices, density\n",
    "from pde_opt.numerics.equations.gross_pitaevskii import (\n",
    "    GPE2DTSControl,\n",
    "    hbar,\n",
    "    mass_Na23,\n",
    "    a0,\n",
    ")\n",
    "from pde_opt.numerics.solvers import StrangSplitting\n",
    "from pde_opt.numerics.utils.initialization_utils import initialize_Psi"
   ]
  },
  {
   "cell_type": "code",
   "execution_count": 2,
   "metadata": {},
   "outputs": [],
   "source": [
    "# Get variables with dimensions\n",
    "atoms = 5e5  # number of atoms\n",
    "omega = 2 * jnp.pi * 10  # 1/s (angular frequency of the trap in the x and y directions)\n",
    "omega_z = jnp.sqrt(8) * omega  # 1/s (angular frequency of the trap in the z direction)\n",
    "epsilon = 0.0  # eccentricity of the trap\n",
    "a_s = 100 * a0  # s-wave scattering length\n",
    "\n",
    "# Length of the x and y axes in meters\n",
    "Lx = 150e-6  # meters\n",
    "Ly = 150e-6  # meters\n",
    "\n",
    "x_s = jnp.sqrt(hbar / (mass_Na23 * omega))  # length scale\n",
    "t_s = 1 / omega  # time scale\n",
    "\n",
    "# Get dimensionless variables\n",
    "Lx_ = Lx / x_s\n",
    "Ly_ = Ly / x_s\n",
    "\n",
    "# Get k\n",
    "k = (\n",
    "    4 * jnp.pi * a_s * atoms * jnp.sqrt((mass_Na23 * omega_z) / (2 * jnp.pi * hbar))\n",
    ")  # dimensionless coupling constant\n",
    "\n",
    "N = 256  # number of grid points\n",
    "domain_ = Domain(\n",
    "    (\n",
    "        N,\n",
    "        N,\n",
    "    ),\n",
    "    (\n",
    "        (-Lx_ / 2, Lx_ / 2),\n",
    "        (-Ly_ / 2, Ly_ / 2),\n",
    "    ),\n",
    "    \"dimensionless\",\n",
    ")"
   ]
  },
  {
   "cell_type": "code",
   "execution_count": 3,
   "metadata": {},
   "outputs": [],
   "source": [
    "Psi0 = initialize_Psi(N, width=100, vortexnumber=0)\n",
    "Psi0_ = Psi0 * x_s\n",
    "Psi0_ /= jnp.sqrt(jnp.sum(density(Psi0_)) * domain_.dx[0] ** 2)"
   ]
  },
  {
   "cell_type": "code",
   "execution_count": 4,
   "metadata": {},
   "outputs": [],
   "source": [
    "eq = GPE2DTSControl(domain_, k, epsilon, lambda a, b, c: 0.0, trap_factor=1.0)\n",
    "solver = StrangSplitting(eq.A_term, eq.domain.dx[0], eq.fft, eq.ifft, -1j)"
   ]
  },
  {
   "cell_type": "code",
   "execution_count": 5,
   "metadata": {},
   "outputs": [],
   "source": [
    "solution = diffrax.diffeqsolve(\n",
    "    diffrax.ODETerm(jax.jit(lambda t, y, args: eq.B_terms(y, t))),\n",
    "    solver,\n",
    "    t0=0.0,\n",
    "    t1=0.05 / t_s,\n",
    "    dt0=1e-5 / t_s,\n",
    "    y0=jnp.stack([Psi0_.real, Psi0_.imag], axis=-1),\n",
    "    saveat=diffrax.SaveAt(t1=True),\n",
    "    max_steps=1000000,\n",
    ")\n",
    "\n",
    "ground_state = solution.ys[-1]"
   ]
  },
  {
   "cell_type": "code",
   "execution_count": 6,
   "metadata": {},
   "outputs": [],
   "source": [
    "end_time = 1.0 / t_s\n",
    "step_dt = 0.01 / t_s\n",
    "numeric_dt = 1e-5 / t_s"
   ]
  },
  {
   "cell_type": "code",
   "execution_count": 7,
   "metadata": {},
   "outputs": [],
   "source": [
    "def reset_function(domain):\n",
    "    if ground_state.shape[:-1] != domain.points:\n",
    "        # Reshape ground_state to match domain points\n",
    "        zoom_factors = (\n",
    "            domain.points[0] / ground_state.shape[0],\n",
    "            domain.points[1] / ground_state.shape[1],\n",
    "        )\n",
    "        resized = zoom(ground_state, zoom_factors, order=1)\n",
    "        return resized\n",
    "    return ground_state\n",
    "\n",
    "\n",
    "reset_control_value = (0.0, 0.0)\n",
    "\n",
    "\n",
    "def state_to_observation(state):\n",
    "    _density = density(state[..., 0] + 1j * state[..., 1])\n",
    "    return (np.clip(np.array(_density), 0, 0.01) * 100 * 255).astype(np.uint8)[None]\n",
    "\n",
    "\n",
    "# reward function\n",
    "def reward_function(state):\n",
    "    psi = state[..., 0] + 1j * state[..., 1]\n",
    "    vorts = detect_vortices(psi, amp_thresh=0.00005, tol=0.5)\n",
    "    return vorts[\"num_vortices\"]\n",
    "\n",
    "\n",
    "continuous_action_space_config = {\n",
    "    \"type\": \"continuous\",\n",
    "    \"shape\": (2,),\n",
    "    \"low\": float(-1e-5 / x_s),\n",
    "    \"high\": float(1e-5 / x_s),\n",
    "}\n",
    "\n",
    "discrete_action_space_config = {\n",
    "    \"type\": \"discrete\",\n",
    "    \"num_actions\": 5,\n",
    "    \"action_mapping\": {\n",
    "        0: (0.0, 0.0),  # no change\n",
    "        1: (-0.5e-5 / x_s, 0.0),  # move left\n",
    "        2: (0.5e-5 / x_s, 0.0),  # move right\n",
    "        3: (0.0, -0.5e-5 / x_s),  # move down\n",
    "        4: (0.0, 0.5e-5 / x_s),  # move up\n",
    "    },\n",
    "}\n",
    "\n",
    "\n",
    "def update_control_value(action, old_control_value):\n",
    "    return (old_control_value[0] + action[0], old_control_value[1] + action[1])\n",
    "\n",
    "\n",
    "def update_control_parameter(old_control_value, new_control_value):\n",
    "    path_fn = lambda t: (\n",
    "        old_control_value[0]\n",
    "        + (new_control_value[0] - old_control_value[0]) * t / step_dt,\n",
    "        old_control_value[1]\n",
    "        + (new_control_value[1] - old_control_value[1]) * t / step_dt,\n",
    "    )\n",
    "\n",
    "    def light(t, xs, ys):\n",
    "        A = 30.0\n",
    "        sigma = 2e-6 / x_s\n",
    "        xi, yi = path_fn(t)\n",
    "        return A * jnp.exp(-((xs - xi) ** 2 + (ys - yi) ** 2) / (2.0 * sigma**2))\n",
    "\n",
    "    return light\n",
    "\n",
    "\n",
    "static_equation_parameters = {\n",
    "    \"k\": k,\n",
    "    \"e\": epsilon,\n",
    "    \"trap_factor\": 1.0,\n",
    "}\n",
    "\n",
    "solver_parameters = {\n",
    "    \"time_scale\": (1.0 - 1j * 0.01),\n",
    "}\n",
    "\n",
    "params = {\n",
    "    \"equation_type\": GPE2DTSControl,\n",
    "    \"domain\": domain_,\n",
    "    \"solver_type\": StrangSplitting,\n",
    "    \"end_time\": end_time,\n",
    "    \"step_dt\": step_dt,\n",
    "    \"numeric_dt\": numeric_dt,\n",
    "    \"state_to_observation_func\": state_to_observation,\n",
    "    \"reward_function\": reward_function,\n",
    "    \"reset_func\": reset_function,\n",
    "    \"reset_control_value\": reset_control_value,\n",
    "    \"update_control_value\": update_control_value,\n",
    "    \"update_control_parameter\": update_control_parameter,\n",
    "    \"action_space_config\": continuous_action_space_config,\n",
    "    \"static_equation_parameters\": static_equation_parameters,\n",
    "    \"control_equation_parameter_name\": \"lights\",\n",
    "    \"solver_parameters\": solver_parameters,\n",
    "}"
   ]
  },
  {
   "cell_type": "code",
   "execution_count": 8,
   "metadata": {},
   "outputs": [],
   "source": [
    "env = gym.make(\"PDEEnv-v0\", **params)"
   ]
  },
  {
   "cell_type": "code",
   "execution_count": 9,
   "metadata": {},
   "outputs": [
    {
     "name": "stdout",
     "output_type": "stream",
     "text": [
      "Episode finished! Total reward: 408\n"
     ]
    }
   ],
   "source": [
    "observation, info = env.reset()\n",
    "\n",
    "episode_over = False\n",
    "rewards = []\n",
    "total_reward = 0\n",
    "\n",
    "iters = 0\n",
    "\n",
    "observations = [observation[0]]\n",
    "states = [info[\"state\"]]\n",
    "actions = []\n",
    "positions = [(0, 0)]  # Start at origin\n",
    "current_pos = [0, 0]\n",
    "\n",
    "while not episode_over:\n",
    "    action = env.action_space.sample()\n",
    "    actions.append(action)\n",
    "    observation, reward, terminated, truncated, info = env.step(action)\n",
    "\n",
    "    total_reward += reward\n",
    "    episode_over = terminated or truncated\n",
    "    iters += 1\n",
    "    rewards.append(reward)\n",
    "    observations.append(observation[0])\n",
    "    states.append(info[\"state\"])\n",
    "    current_pos[0] += action[1]\n",
    "    current_pos[1] -= action[0]\n",
    "    positions.append((current_pos[0], current_pos[1]))\n",
    "\n",
    "\n",
    "print(f\"Episode finished! Total reward: {total_reward}\")\n",
    "env.close()"
   ]
  },
  {
   "cell_type": "code",
   "execution_count": null,
   "metadata": {},
   "outputs": [],
   "source": [
    "positions = np.array(positions)"
   ]
  },
  {
   "cell_type": "code",
   "execution_count": 162,
   "metadata": {},
   "outputs": [],
   "source": [
    "ind = 60"
   ]
  },
  {
   "cell_type": "code",
   "execution_count": 163,
   "metadata": {},
   "outputs": [
    {
     "name": "stdout",
     "output_type": "stream",
     "text": [
      "8\n"
     ]
    }
   ],
   "source": [
    "psi = states[ind][..., 0] + 1j * states[ind][..., 1]\n",
    "vorts = detect_vortices(psi, amp_thresh=0.00005, tol=0.5)\n",
    "print(vorts[\"num_vortices\"])"
   ]
  },
  {
   "cell_type": "code",
   "execution_count": 155,
   "metadata": {},
   "outputs": [
    {
     "data": {
      "image/png": "[encoded data removed]",
      "text/plain": [
       "<Figure size 640x480 with 1 Axes>"
      ]
     },
     "metadata": {},
     "output_type": "display_data"
    }
   ],
   "source": [
    "# Plot final observation with trajectory\n",
    "plt.imshow(\n",
    "    observations[ind],\n",
    "    vmin=0,\n",
    "    vmax=255,\n",
    "    extent=[domain_.box[0][0], domain_.box[0][1], domain_.box[1][0], domain_.box[1][1]],\n",
    ")\n",
    "plt.plot(positions[:ind, 0], positions[:ind, 1], \"r:\", alpha=0.2)\n",
    "plt.plot(positions[:ind, 0], positions[:ind, 1], \"r.\", alpha=0.2)\n",
    "plt.scatter(\n",
    "    vorts[\"positions\"][:, 1] * domain_.dx[0] + domain_.box[0][0],\n",
    "    -vorts[\"positions\"][:, 0] * domain_.dx[1] + domain_.box[1][1],\n",
    "    c='none',\n",
    "    s=150,\n",
    "    marker=\"o\",\n",
    "    linewidths=1,\n",
    "    edgecolors=['black' if charge == -1 else 'white' for charge in vorts[\"charges\"]]\n",
    ")\n",
    "plt.axis(\"off\")\n",
    "plt.gca().set_aspect(\"equal\")\n",
    "plt.show()"
   ]
  },
  {
   "cell_type": "code",
   "execution_count": 96,
   "metadata": {},
   "outputs": [
    {
     "data": {
      "text/plain": [
       "Array([-1,  1, -1,  1, -1,  1,  1], dtype=int32)"
      ]
     },
     "execution_count": 96,
     "metadata": {},
     "output_type": "execute_result"
    }
   ],
   "source": [
    "vorts[\"charges\"]"
   ]
  },
  {
   "cell_type": "code",
   "execution_count": 43,
   "metadata": {},
   "outputs": [
    {
     "data": {
      "text/plain": [
       "((Array(-11.335702, dtype=float32, weak_type=True),\n",
       "  Array(11.335702, dtype=float32, weak_type=True)),\n",
       " (Array(-11.335702, dtype=float32, weak_type=True),\n",
       "  Array(11.335702, dtype=float32, weak_type=True)))"
      ]
     },
     "execution_count": 43,
     "metadata": {},
     "output_type": "execute_result"
    }
   ],
   "source": [
    "domain_.box"
   ]
  },
  {
   "cell_type": "code",
   "execution_count": null,
   "metadata": {},
   "outputs": [],
   "source": []
  }
 ],
 "metadata": {
  "kernelspec": {
   "display_name": "Python 3",
   "language": "python",
   "name": "python3"
  },
  "language_info": {
   "codemirror_mode": {
    "name": "ipython",
    "version": 3
   },
   "file_extension": ".py",
   "mimetype": "text/x-python",
   "name": "python",
   "nbconvert_exporter": "python",
   "pygments_lexer": "ipython3",
   "version": "3.10.18"
  }
 },
 "nbformat": 4,
 "nbformat_minor": 2
}
